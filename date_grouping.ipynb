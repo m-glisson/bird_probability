{
 "cells": [
  {
   "cell_type": "code",
   "execution_count": 4,
   "metadata": {},
   "outputs": [
    {
     "name": "stdout",
     "output_type": "stream",
     "text": [
      "Requirement already satisfied: openpyxl in ./env/lib/python3.9/site-packages (3.1.3)\n",
      "Requirement already satisfied: et-xmlfile in ./env/lib/python3.9/site-packages (from openpyxl) (1.1.0)\n",
      "\u001b[33mWARNING: You are using pip version 21.2.3; however, version 24.0 is available.\n",
      "You should consider upgrading via the '/Users/matt/Code/bird_probability/env/bin/python -m pip install --upgrade pip' command.\u001b[0m\n"
     ]
    }
   ],
   "source": [
    "!pip install openpyxl"
   ]
  },
  {
   "cell_type": "code",
   "execution_count": 5,
   "metadata": {},
   "outputs": [],
   "source": [
    "import pandas as pd "
   ]
  },
  {
   "cell_type": "markdown",
   "metadata": {},
   "source": [
    "# Dates Groupings and medians\n",
    "- get the median song duration for the day \n",
    "- find the last three medians \n",
    "- take the average of the last three \n",
    "- average * .95 gives us a threashold \n",
    "- find the day where we cross that threshold "
   ]
  },
  {
   "cell_type": "code",
   "execution_count": 6,
   "metadata": {},
   "outputs": [],
   "source": [
    "data_set = pd.read_excel(open('./data/Duration pre Processing.xlsx', 'rb'),\n",
    "              sheet_name='Sheet1')\n"
   ]
  },
  {
   "cell_type": "code",
   "execution_count": 8,
   "metadata": {},
   "outputs": [],
   "source": [
    "grouped = data_set.groupby('Date')[['Duration (msec)']]\n",
    "output = grouped.apply(lambda x: x.quantile(0.75) - x.quantile(0.25))\n",
    "\n",
    "output.to_csv('hi_bex.csv')"
   ]
  },
  {
   "cell_type": "code",
   "execution_count": 2,
   "metadata": {},
   "outputs": [
    {
     "ename": "NameError",
     "evalue": "name 'output' is not defined",
     "output_type": "error",
     "traceback": [
      "\u001b[0;31m---------------------------------------------------------------------------\u001b[0m",
      "\u001b[0;31mNameError\u001b[0m                                 Traceback (most recent call last)",
      "Cell \u001b[0;32mIn[2], line 1\u001b[0m\n\u001b[0;32m----> 1\u001b[0m filter_threshold \u001b[38;5;241m=\u001b[39m \u001b[43moutput\u001b[49m\u001b[38;5;241m.\u001b[39mquantile(\u001b[38;5;241m0.95\u001b[39m)\n\u001b[1;32m      3\u001b[0m last_three_average \u001b[38;5;241m=\u001b[39m output[output \u001b[38;5;241m<\u001b[39m filter_threshold]\u001b[38;5;241m.\u001b[39mdropna()\u001b[38;5;241m.\u001b[39mtail(\u001b[38;5;241m3\u001b[39m)[\u001b[38;5;124m'\u001b[39m\u001b[38;5;124mDuration (msec)\u001b[39m\u001b[38;5;124m'\u001b[39m]\u001b[38;5;241m.\u001b[39mmean()\n\u001b[1;32m      5\u001b[0m threshold \u001b[38;5;241m=\u001b[39m last_three_average \u001b[38;5;241m*\u001b[39m \u001b[38;5;241m1.05\u001b[39m\n",
      "\u001b[0;31mNameError\u001b[0m: name 'output' is not defined"
     ]
    }
   ],
   "source": [
    "filter_threshold = output.quantile(0.95)\n",
    "\n",
    "last_three_average = output[output < filter_threshold].dropna().tail(3)['Duration (msec)'].mean()\n",
    "\n",
    "threshold = last_three_average * 1.05\n",
    "print(f\"The Threshold is {threshold} milliseconds\")"
   ]
  },
  {
   "cell_type": "code",
   "execution_count": 9,
   "metadata": {},
   "outputs": [
    {
     "data": {
      "text/plain": [
       "Date\n",
       "2023-03-03    1589.105\n",
       "2023-03-17    1899.020\n",
       "2023-03-24    2038.385\n",
       "2023-03-28    2398.230\n",
       "2023-03-31    2202.705\n",
       "2023-04-05    2539.670\n",
       "2023-04-07    2094.540\n",
       "2023-04-12    2387.825\n",
       "2023-04-19    1393.580\n",
       "2023-04-21    1917.740\n",
       "2023-04-25    2620.795\n",
       "2023-04-28    2398.220\n",
       "2023-05-03    2281.750\n",
       "2023-05-05    2100.785\n",
       "2023-05-10    2113.260\n",
       "2023-05-12    2069.595\n",
       "2023-05-17    1965.585\n",
       "2023-05-19    2161.100\n",
       "2023-05-24    2131.980\n",
       "2023-05-31    1988.575\n",
       "2023-06-07    2081.135\n",
       "Name: Duration (msec), dtype: float64"
      ]
     },
     "execution_count": 9,
     "metadata": {},
     "output_type": "execute_result"
    }
   ],
   "source": [
    "data_set.loc[data_set['Date'] == '2023-03-03']\n",
    "median_set = data_set.groupby('Date')['Duration (msec)'].median()\n",
    "median_set\n"
   ]
  },
  {
   "cell_type": "code",
   "execution_count": 45,
   "metadata": {},
   "outputs": [],
   "source": [
    "median_set.to_csv('median_set.csv')"
   ]
  },
  {
   "cell_type": "code",
   "execution_count": 14,
   "metadata": {},
   "outputs": [
    {
     "data": {
      "text/html": [
       "<div>\n",
       "<style scoped>\n",
       "    .dataframe tbody tr th:only-of-type {\n",
       "        vertical-align: middle;\n",
       "    }\n",
       "\n",
       "    .dataframe tbody tr th {\n",
       "        vertical-align: top;\n",
       "    }\n",
       "\n",
       "    .dataframe thead th {\n",
       "        text-align: right;\n",
       "    }\n",
       "</style>\n",
       "<table border=\"1\" class=\"dataframe\">\n",
       "  <thead>\n",
       "    <tr style=\"text-align: right;\">\n",
       "      <th></th>\n",
       "      <th>Duration (msec)</th>\n",
       "    </tr>\n",
       "    <tr>\n",
       "      <th>Date</th>\n",
       "      <th></th>\n",
       "    </tr>\n",
       "  </thead>\n",
       "  <tbody>\n",
       "    <tr>\n",
       "      <th>2023-03-03</th>\n",
       "      <td>30</td>\n",
       "    </tr>\n",
       "    <tr>\n",
       "      <th>2023-03-17</th>\n",
       "      <td>30</td>\n",
       "    </tr>\n",
       "    <tr>\n",
       "      <th>2023-03-24</th>\n",
       "      <td>30</td>\n",
       "    </tr>\n",
       "    <tr>\n",
       "      <th>2023-03-28</th>\n",
       "      <td>30</td>\n",
       "    </tr>\n",
       "    <tr>\n",
       "      <th>2023-03-31</th>\n",
       "      <td>30</td>\n",
       "    </tr>\n",
       "    <tr>\n",
       "      <th>2023-04-05</th>\n",
       "      <td>16</td>\n",
       "    </tr>\n",
       "    <tr>\n",
       "      <th>2023-04-07</th>\n",
       "      <td>30</td>\n",
       "    </tr>\n",
       "    <tr>\n",
       "      <th>2023-04-12</th>\n",
       "      <td>10</td>\n",
       "    </tr>\n",
       "    <tr>\n",
       "      <th>2023-04-19</th>\n",
       "      <td>3</td>\n",
       "    </tr>\n",
       "    <tr>\n",
       "      <th>2023-04-21</th>\n",
       "      <td>30</td>\n",
       "    </tr>\n",
       "    <tr>\n",
       "      <th>2023-04-25</th>\n",
       "      <td>30</td>\n",
       "    </tr>\n",
       "    <tr>\n",
       "      <th>2023-04-28</th>\n",
       "      <td>30</td>\n",
       "    </tr>\n",
       "    <tr>\n",
       "      <th>2023-05-03</th>\n",
       "      <td>30</td>\n",
       "    </tr>\n",
       "    <tr>\n",
       "      <th>2023-05-05</th>\n",
       "      <td>30</td>\n",
       "    </tr>\n",
       "    <tr>\n",
       "      <th>2023-05-10</th>\n",
       "      <td>30</td>\n",
       "    </tr>\n",
       "    <tr>\n",
       "      <th>2023-05-12</th>\n",
       "      <td>30</td>\n",
       "    </tr>\n",
       "    <tr>\n",
       "      <th>2023-05-17</th>\n",
       "      <td>30</td>\n",
       "    </tr>\n",
       "    <tr>\n",
       "      <th>2023-05-19</th>\n",
       "      <td>30</td>\n",
       "    </tr>\n",
       "    <tr>\n",
       "      <th>2023-05-24</th>\n",
       "      <td>30</td>\n",
       "    </tr>\n",
       "    <tr>\n",
       "      <th>2023-05-31</th>\n",
       "      <td>30</td>\n",
       "    </tr>\n",
       "    <tr>\n",
       "      <th>2023-06-07</th>\n",
       "      <td>30</td>\n",
       "    </tr>\n",
       "  </tbody>\n",
       "</table>\n",
       "</div>"
      ],
      "text/plain": [
       "            Duration (msec)\n",
       "Date                       \n",
       "2023-03-03               30\n",
       "2023-03-17               30\n",
       "2023-03-24               30\n",
       "2023-03-28               30\n",
       "2023-03-31               30\n",
       "2023-04-05               16\n",
       "2023-04-07               30\n",
       "2023-04-12               10\n",
       "2023-04-19                3\n",
       "2023-04-21               30\n",
       "2023-04-25               30\n",
       "2023-04-28               30\n",
       "2023-05-03               30\n",
       "2023-05-05               30\n",
       "2023-05-10               30\n",
       "2023-05-12               30\n",
       "2023-05-17               30\n",
       "2023-05-19               30\n",
       "2023-05-24               30\n",
       "2023-05-31               30\n",
       "2023-06-07               30"
      ]
     },
     "execution_count": 14,
     "metadata": {},
     "output_type": "execute_result"
    }
   ],
   "source": [
    "grouped_set = data_set.groupby('Date').count()\n",
    "grouped_set"
   ]
  },
  {
   "cell_type": "code",
   "execution_count": 39,
   "metadata": {},
   "outputs": [],
   "source": [
    "median_frame = median_set.to_frame()\n",
    "median_frame.reset_index(inplace=True)"
   ]
  },
  {
   "cell_type": "code",
   "execution_count": 48,
   "metadata": {},
   "outputs": [
    {
     "data": {
      "text/plain": [
       "2539.67"
      ]
     },
     "execution_count": 48,
     "metadata": {},
     "output_type": "execute_result"
    }
   ],
   "source": [
    "median_set.quantile(0.95)"
   ]
  },
  {
   "cell_type": "code",
   "execution_count": 43,
   "metadata": {},
   "outputs": [],
   "source": [
    "## how group? \n",
    "\n",
    "new_set = []\n",
    "for x in range(0, len(data_set)):\n",
    "    row = data_set.iloc[x]\n",
    "    new_row = row.copy()\n",
    "    if x < len(median_set): \n",
    "        new_row['median_date'] = median_frame.iloc[x]['Date']\n",
    "        new_row['median_score'] = median_frame.iloc[x]['Duration (msec)']\n",
    "    else: \n",
    "        new_row['median_date'] = None\n",
    "        new_row['median_score'] = None  \n",
    "\n",
    "    new_set.append(new_row)"
   ]
  },
  {
   "cell_type": "code",
   "execution_count": 44,
   "metadata": {},
   "outputs": [],
   "source": [
    "pd.DataFrame(new_set).to_csv('hi_bex.csv')"
   ]
  }
 ],
 "metadata": {
  "kernelspec": {
   "display_name": "env",
   "language": "python",
   "name": "python3"
  },
  "language_info": {
   "codemirror_mode": {
    "name": "ipython",
    "version": 3
   },
   "file_extension": ".py",
   "mimetype": "text/x-python",
   "name": "python",
   "nbconvert_exporter": "python",
   "pygments_lexer": "ipython3",
   "version": "3.9.7"
  }
 },
 "nbformat": 4,
 "nbformat_minor": 2
}
